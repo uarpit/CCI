{
 "cells": [
  {
   "cell_type": "markdown",
   "metadata": {},
   "source": [
    "1.1 - Determine if a string has all unique characters."
   ]
  },
  {
   "cell_type": "code",
   "execution_count": 10,
   "metadata": {},
   "outputs": [
    {
     "data": {
      "text/plain": [
       "True"
      ]
     },
     "execution_count": 10,
     "metadata": {},
     "output_type": "execute_result"
    }
   ],
   "source": [
    "def str_unq(ip):\n",
    "    \"\"\"This function converts string into set and compares the length.\n",
    "    len function has a timecomplexity of O(1)\n",
    "    converting it to a set is of timecomplexity of O(n)\"\"\"\n",
    "    return len(ip) == len(set(ip))\n",
    "\n",
    "str_unq(\"uniqe \")"
   ]
  },
  {
   "cell_type": "markdown",
   "metadata": {},
   "source": [
    "    Without using datastructures"
   ]
  },
  {
   "cell_type": "code",
   "execution_count": 39,
   "metadata": {},
   "outputs": [
    {
     "data": {
      "text/plain": [
       "True"
      ]
     },
     "execution_count": 39,
     "metadata": {},
     "output_type": "execute_result"
    }
   ],
   "source": [
    "def str_unq_no_ds(ip):\n",
    "    \"\"\"\n",
    "    Python does not have built-in support for Arrays, but Python Lists can be used instead.\n",
    "    This function uses list with ascii values as index\n",
    "    ascii 32(space) - 126(~)\n",
    "    \"\"\"\n",
    "    counter = [0]*95\n",
    "    \n",
    "    for i in ip:\n",
    "        try:\n",
    "            alpha = ord(i)-32\n",
    "        except:\n",
    "            print(\"Please enter charcacters with ascii values ranging from 32 to 126\")\n",
    "        \n",
    "        if counter[alpha] >= 1:\n",
    "            return False\n",
    "        else:\n",
    "            counter[alpha] +=1\n",
    "            \n",
    "    return True\n",
    "\n",
    "str_unq_no_ds(\"uniqe+* \")"
   ]
  },
  {
   "cell_type": "markdown",
   "metadata": {},
   "source": [
    "1.2 - Given two strings write a method to determine of one is permutation of another"
   ]
  },
  {
   "cell_type": "code",
   "execution_count": null,
   "metadata": {},
   "outputs": [],
   "source": []
  }
 ],
 "metadata": {
  "kernelspec": {
   "display_name": "Python 3",
   "language": "python",
   "name": "python3"
  },
  "language_info": {
   "codemirror_mode": {
    "name": "ipython",
    "version": 3
   },
   "file_extension": ".py",
   "mimetype": "text/x-python",
   "name": "python",
   "nbconvert_exporter": "python",
   "pygments_lexer": "ipython3",
   "version": "3.7.5"
  }
 },
 "nbformat": 4,
 "nbformat_minor": 2
}
